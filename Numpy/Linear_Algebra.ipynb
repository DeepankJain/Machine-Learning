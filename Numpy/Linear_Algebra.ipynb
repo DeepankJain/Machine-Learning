{
  "nbformat": 4,
  "nbformat_minor": 0,
  "metadata": {
    "colab": {
      "name": "Numpy.ipynb",
      "version": "0.3.2",
      "provenance": [],
      "collapsed_sections": [],
      "include_colab_link": true
    },
    "kernelspec": {
      "name": "python3",
      "display_name": "Python 3"
    }
  },
  "cells": [
    {
      "cell_type": "markdown",
      "metadata": {
        "id": "view-in-github",
        "colab_type": "text"
      },
      "source": [
        "[View in Colaboratory](https://colab.research.google.com/github/DeepankJain/Machine-Learning/blob/master/Numpy/Linear_Algebra.ipynb)"
      ]
    },
    {
      "metadata": {
        "id": "G3PDQYV_QW8J",
        "colab_type": "code",
        "colab": {}
      },
      "cell_type": "code",
      "source": [
        "import numpy as np"
      ],
      "execution_count": 0,
      "outputs": []
    },
    {
      "metadata": {
        "id": "GzoN2N3lXUh0",
        "colab_type": "code",
        "colab": {
          "base_uri": "https://localhost:8080/",
          "height": 51
        },
        "outputId": "248db4af-06e7-40e9-ef31-6fb756b8f471"
      },
      "cell_type": "code",
      "source": [
        "a = np.array([[2,3,4],[1,9,7]])\n",
        "print(a)"
      ],
      "execution_count": 2,
      "outputs": [
        {
          "output_type": "stream",
          "text": [
            "[[2 3 4]\n",
            " [1 9 7]]\n"
          ],
          "name": "stdout"
        }
      ]
    },
    {
      "metadata": {
        "id": "AkpIbpdAXjsR",
        "colab_type": "code",
        "colab": {
          "base_uri": "https://localhost:8080/",
          "height": 34
        },
        "outputId": "89199c62-e7a6-4a37-afd9-009301c85fc2"
      },
      "cell_type": "code",
      "source": [
        "print(a.shape)"
      ],
      "execution_count": 5,
      "outputs": [
        {
          "output_type": "stream",
          "text": [
            "(2, 3)\n"
          ],
          "name": "stdout"
        }
      ]
    },
    {
      "metadata": {
        "id": "-BYg9d_fXn5Y",
        "colab_type": "code",
        "colab": {
          "base_uri": "https://localhost:8080/",
          "height": 272
        },
        "outputId": "0ec3890f-f44a-4017-fa16-d619959fa443"
      },
      "cell_type": "code",
      "source": [
        "a = np.zeros((2,3))\n",
        "print(a)\n",
        "b= np.ones((2,4))\n",
        "print(b)\n",
        "c = np.full((3,6), np.pi )\n",
        "print(c)\n",
        "d = np.eye(5)\n",
        "print(d)\n",
        "e = np.random.random((3,5))\n",
        "print(e)"
      ],
      "execution_count": 7,
      "outputs": [
        {
          "output_type": "stream",
          "text": [
            "[[0. 0. 0.]\n",
            " [0. 0. 0.]]\n",
            "[[1. 1. 1. 1.]\n",
            " [1. 1. 1. 1.]]\n",
            "[[3.14159265 3.14159265 3.14159265 3.14159265 3.14159265 3.14159265]\n",
            " [3.14159265 3.14159265 3.14159265 3.14159265 3.14159265 3.14159265]\n",
            " [3.14159265 3.14159265 3.14159265 3.14159265 3.14159265 3.14159265]]\n",
            "[[1. 0. 0. 0. 0.]\n",
            " [0. 1. 0. 0. 0.]\n",
            " [0. 0. 1. 0. 0.]\n",
            " [0. 0. 0. 1. 0.]\n",
            " [0. 0. 0. 0. 1.]]\n",
            "[[0.88776518 0.43625076 0.08300144 0.71595222 0.44701665]\n",
            " [0.37730095 0.80647701 0.15635396 0.64917493 0.0708586 ]\n",
            " [0.53587537 0.2812054  0.17943047 0.8617093  0.14988622]]\n"
          ],
          "name": "stdout"
        }
      ]
    },
    {
      "metadata": {
        "id": "Y23egHHGZqUO",
        "colab_type": "code",
        "colab": {
          "base_uri": "https://localhost:8080/",
          "height": 51
        },
        "outputId": "1cb5075d-787a-440f-d422-93c3418caed9"
      },
      "cell_type": "code",
      "source": [
        "f = np.arange(0,30,7)\n",
        "print(f)\n",
        "g = np.linspace(0,30,7)\n",
        "print(g)"
      ],
      "execution_count": 8,
      "outputs": [
        {
          "output_type": "stream",
          "text": [
            "[ 0  7 14 21 28]\n",
            "[ 0.  5. 10. 15. 20. 25. 30.]\n"
          ],
          "name": "stdout"
        }
      ]
    },
    {
      "metadata": {
        "id": "UMdLNOcBbf2e",
        "colab_type": "code",
        "colab": {
          "base_uri": "https://localhost:8080/",
          "height": 68
        },
        "outputId": "541e2692-ea1e-4e18-aa30-c46a22b43564"
      },
      "cell_type": "code",
      "source": [
        "h = np.full((3,4), np.pi, dtype = 'complex')\n",
        "print(h)"
      ],
      "execution_count": 13,
      "outputs": [
        {
          "output_type": "stream",
          "text": [
            "[[3.14159265+0.j 3.14159265+0.j 3.14159265+0.j 3.14159265+0.j]\n",
            " [3.14159265+0.j 3.14159265+0.j 3.14159265+0.j 3.14159265+0.j]\n",
            " [3.14159265+0.j 3.14159265+0.j 3.14159265+0.j 3.14159265+0.j]]\n"
          ],
          "name": "stdout"
        }
      ]
    },
    {
      "metadata": {
        "id": "yKGdkGYTcQOs",
        "colab_type": "code",
        "colab": {
          "base_uri": "https://localhost:8080/",
          "height": 68
        },
        "outputId": "95e29151-9367-4002-c62a-5f00fa1b8319"
      },
      "cell_type": "code",
      "source": [
        "A = np.array([[6,1,1],[4,-2,5],[2,8,7]])\n",
        "print(A)"
      ],
      "execution_count": 15,
      "outputs": [
        {
          "output_type": "stream",
          "text": [
            "[[ 6  1  1]\n",
            " [ 4 -2  5]\n",
            " [ 2  8  7]]\n"
          ],
          "name": "stdout"
        }
      ]
    },
    {
      "metadata": {
        "id": "jkI3Hc5Nkx0t",
        "colab_type": "code",
        "colab": {
          "base_uri": "https://localhost:8080/",
          "height": 85
        },
        "outputId": "2fd36e00-b2df-46be-9a0f-086464a4b2b4"
      },
      "cell_type": "code",
      "source": [
        "print(np.append(A, np.array([[1,2,3]]),axis= 0))\n",
        "      "
      ],
      "execution_count": 21,
      "outputs": [
        {
          "output_type": "stream",
          "text": [
            "[[ 6  1  1]\n",
            " [ 4 -2  5]\n",
            " [ 2  8  7]\n",
            " [ 1  2  3]]\n"
          ],
          "name": "stdout"
        }
      ]
    },
    {
      "metadata": {
        "id": "3vkOQJCKleRS",
        "colab_type": "code",
        "colab": {
          "base_uri": "https://localhost:8080/",
          "height": 34
        },
        "outputId": "b22217eb-acb5-4dfd-8571-c3df6e11565a"
      },
      "cell_type": "code",
      "source": [
        "print(np.linalg.matrix_rank(A))"
      ],
      "execution_count": 22,
      "outputs": [
        {
          "output_type": "stream",
          "text": [
            "3\n"
          ],
          "name": "stdout"
        }
      ]
    },
    {
      "metadata": {
        "id": "8v24YczKmOg8",
        "colab_type": "code",
        "colab": {
          "base_uri": "https://localhost:8080/",
          "height": 34
        },
        "outputId": "8539117e-17f8-4ac3-e9bc-9c994d4d5b29"
      },
      "cell_type": "code",
      "source": [
        "np.trace(A)"
      ],
      "execution_count": 23,
      "outputs": [
        {
          "output_type": "execute_result",
          "data": {
            "text/plain": [
              "11"
            ]
          },
          "metadata": {
            "tags": []
          },
          "execution_count": 23
        }
      ]
    },
    {
      "metadata": {
        "id": "YHa-18cSmS-u",
        "colab_type": "code",
        "colab": {
          "base_uri": "https://localhost:8080/",
          "height": 34
        },
        "outputId": "7ecb2e2e-4e75-4347-afcb-7feadf0b9ea4"
      },
      "cell_type": "code",
      "source": [
        "np.linalg.det(A)"
      ],
      "execution_count": 24,
      "outputs": [
        {
          "output_type": "execute_result",
          "data": {
            "text/plain": [
              "-306.0"
            ]
          },
          "metadata": {
            "tags": []
          },
          "execution_count": 24
        }
      ]
    },
    {
      "metadata": {
        "id": "CR4wzRTImePf",
        "colab_type": "code",
        "colab": {
          "base_uri": "https://localhost:8080/",
          "height": 68
        },
        "outputId": "b3127d23-2bc6-499c-a086-d94475af7689"
      },
      "cell_type": "code",
      "source": [
        "np.linalg.inv(A)"
      ],
      "execution_count": 25,
      "outputs": [
        {
          "output_type": "execute_result",
          "data": {
            "text/plain": [
              "array([[ 0.17647059, -0.00326797, -0.02287582],\n",
              "       [ 0.05882353, -0.13071895,  0.08496732],\n",
              "       [-0.11764706,  0.1503268 ,  0.05228758]])"
            ]
          },
          "metadata": {
            "tags": []
          },
          "execution_count": 25
        }
      ]
    },
    {
      "metadata": {
        "id": "fjQpyZOimiAh",
        "colab_type": "code",
        "colab": {
          "base_uri": "https://localhost:8080/",
          "height": 68
        },
        "outputId": "0f0cbb84-1b29-4118-857c-1d0d2cd7a087"
      },
      "cell_type": "code",
      "source": [
        "np.linalg.matrix_power(A, 3)"
      ],
      "execution_count": 27,
      "outputs": [
        {
          "output_type": "execute_result",
          "data": {
            "text/plain": [
              "array([[336, 162, 228],\n",
              "       [406, 162, 469],\n",
              "       [698, 702, 905]])"
            ]
          },
          "metadata": {
            "tags": []
          },
          "execution_count": 27
        }
      ]
    },
    {
      "metadata": {
        "id": "no-OSAg5mpjP",
        "colab_type": "code",
        "colab": {}
      },
      "cell_type": "code",
      "source": [
        ""
      ],
      "execution_count": 0,
      "outputs": []
    }
  ]
}