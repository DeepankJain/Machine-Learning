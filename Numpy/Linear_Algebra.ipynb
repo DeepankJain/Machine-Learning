{
  "nbformat": 4,
  "nbformat_minor": 0,
  "metadata": {
    "colab": {
      "name": "Numpy.ipynb",
      "version": "0.3.2",
      "provenance": [],
      "include_colab_link": true
    },
    "kernelspec": {
      "name": "python3",
      "display_name": "Python 3"
    }
  },
  "cells": [
    {
      "cell_type": "markdown",
      "metadata": {
        "id": "view-in-github",
        "colab_type": "text"
      },
      "source": [
        "[View in Colaboratory](https://colab.research.google.com/github/DeepankJain/Machine-Learning/blob/master/Numpy/Linear_Algebra.ipynb)"
      ]
    },
    {
      "metadata": {
        "id": "G3PDQYV_QW8J",
        "colab_type": "code",
        "colab": {}
      },
      "cell_type": "code",
      "source": [
        "import numpy as np"
      ],
      "execution_count": 0,
      "outputs": []
    },
    {
      "metadata": {
        "id": "GzoN2N3lXUh0",
        "colab_type": "code",
        "colab": {
          "base_uri": "https://localhost:8080/",
          "height": 51
        },
        "outputId": "248db4af-06e7-40e9-ef31-6fb756b8f471"
      },
      "cell_type": "code",
      "source": [
        "a = np.array([[2,3,4],[1,9,7]])\n",
        "print(a)"
      ],
      "execution_count": 2,
      "outputs": [
        {
          "output_type": "stream",
          "text": [
            "[[2 3 4]\n",
            " [1 9 7]]\n"
          ],
          "name": "stdout"
        }
      ]
    },
    {
      "metadata": {
        "id": "AkpIbpdAXjsR",
        "colab_type": "code",
        "colab": {
          "base_uri": "https://localhost:8080/",
          "height": 34
        },
        "outputId": "89199c62-e7a6-4a37-afd9-009301c85fc2"
      },
      "cell_type": "code",
      "source": [
        "print(a.shape)"
      ],
      "execution_count": 5,
      "outputs": [
        {
          "output_type": "stream",
          "text": [
            "(2, 3)\n"
          ],
          "name": "stdout"
        }
      ]
    },
    {
      "metadata": {
        "id": "-BYg9d_fXn5Y",
        "colab_type": "code",
        "colab": {
          "base_uri": "https://localhost:8080/",
          "height": 272
        },
        "outputId": "0ec3890f-f44a-4017-fa16-d619959fa443"
      },
      "cell_type": "code",
      "source": [
        "a = np.zeros((2,3))\n",
        "print(a)\n",
        "b= np.ones((2,4))\n",
        "print(b)\n",
        "c = np.full((3,6), np.pi )\n",
        "print(c)\n",
        "d = np.eye(5)\n",
        "print(d)\n",
        "e = np.random.random((3,5))\n",
        "print(e)"
      ],
      "execution_count": 7,
      "outputs": [
        {
          "output_type": "stream",
          "text": [
            "[[0. 0. 0.]\n",
            " [0. 0. 0.]]\n",
            "[[1. 1. 1. 1.]\n",
            " [1. 1. 1. 1.]]\n",
            "[[3.14159265 3.14159265 3.14159265 3.14159265 3.14159265 3.14159265]\n",
            " [3.14159265 3.14159265 3.14159265 3.14159265 3.14159265 3.14159265]\n",
            " [3.14159265 3.14159265 3.14159265 3.14159265 3.14159265 3.14159265]]\n",
            "[[1. 0. 0. 0. 0.]\n",
            " [0. 1. 0. 0. 0.]\n",
            " [0. 0. 1. 0. 0.]\n",
            " [0. 0. 0. 1. 0.]\n",
            " [0. 0. 0. 0. 1.]]\n",
            "[[0.88776518 0.43625076 0.08300144 0.71595222 0.44701665]\n",
            " [0.37730095 0.80647701 0.15635396 0.64917493 0.0708586 ]\n",
            " [0.53587537 0.2812054  0.17943047 0.8617093  0.14988622]]\n"
          ],
          "name": "stdout"
        }
      ]
    },
    {
      "metadata": {
        "id": "Y23egHHGZqUO",
        "colab_type": "code",
        "colab": {
          "base_uri": "https://localhost:8080/",
          "height": 51
        },
        "outputId": "1cb5075d-787a-440f-d422-93c3418caed9"
      },
      "cell_type": "code",
      "source": [
        "f = np.arange(0,30,7)\n",
        "print(f)\n",
        "g = np.linspace(0,30,7)\n",
        "print(g)"
      ],
      "execution_count": 8,
      "outputs": [
        {
          "output_type": "stream",
          "text": [
            "[ 0  7 14 21 28]\n",
            "[ 0.  5. 10. 15. 20. 25. 30.]\n"
          ],
          "name": "stdout"
        }
      ]
    },
    {
      "metadata": {
        "id": "UMdLNOcBbf2e",
        "colab_type": "code",
        "colab": {
          "base_uri": "https://localhost:8080/",
          "height": 68
        },
        "outputId": "541e2692-ea1e-4e18-aa30-c46a22b43564"
      },
      "cell_type": "code",
      "source": [
        "h = np.full((3,4), np.pi, dtype = 'complex')\n",
        "print(h)"
      ],
      "execution_count": 13,
      "outputs": [
        {
          "output_type": "stream",
          "text": [
            "[[3.14159265+0.j 3.14159265+0.j 3.14159265+0.j 3.14159265+0.j]\n",
            " [3.14159265+0.j 3.14159265+0.j 3.14159265+0.j 3.14159265+0.j]\n",
            " [3.14159265+0.j 3.14159265+0.j 3.14159265+0.j 3.14159265+0.j]]\n"
          ],
          "name": "stdout"
        }
      ]
    },
    {
      "metadata": {
        "id": "yKGdkGYTcQOs",
        "colab_type": "code",
        "colab": {}
      },
      "cell_type": "code",
      "source": [
        ""
      ],
      "execution_count": 0,
      "outputs": []
    }
  ]
}